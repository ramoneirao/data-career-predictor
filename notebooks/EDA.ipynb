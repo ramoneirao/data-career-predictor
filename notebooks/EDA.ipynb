{
 "cells": [
  {
   "cell_type": "markdown",
   "metadata": {},
   "source": [
    "# **Previsão do Cargo Ideal**"
   ]
  },
  {
   "cell_type": "markdown",
   "metadata": {},
   "source": [
    "## **1. Introdução**\n",
    "Neste projeto, construirei um modelo de aprendizado de máquina para prever o cargo ideal na área de dados com base no estudo *State of Data Brazil 2022*. O problema é abordado como uma tarefa de classificação supervisionada, onde o modelo aprenderá a partir de dados rotulados para determinar a posição mais adequada para um candidato com base em diversos atributos.  \n",
    "\n",
    "Utilizarei o seguinte pipeline baseado no processo KDD (Knowledge Discovery in Databases):  \n",
    "\n",
    "1. **Seleção** – Identificar e selecionar as instâncias e atributos mais relevantes para a análise.  \n",
    "2. **Pré-processamento** – Tratar dados ausentes, incorretos ou inconsistentes para melhorar a qualidade geral.  \n",
    "3. **Transformação** – Converter os dados para um formato compatível com as técnicas de modelagem escolhidas.  \n",
    "4. **Mineração de Dados** – Treinar e comparar modelos de classificação para prever o cargo ideal.  \n",
    "5. **Avaliação** – Avaliar o desempenho dos modelos e analisar os resultados para selecionar a melhor abordagem.  \n",
    "\n",
    "Neste notebook, realizarei a análise exploratória dos dados (EDA), cobrindo as etapas 1 a 3 do pipeline acima. O principal objetivo é extrair insights que revelem padrões entre diferentes perfis de candidatos a partir das variáveis disponíveis. Mesmo antes de construir o modelo final, essa análise fornecerá informações úteis sobre tendências de adequação a cargos na área de dados. Além disso, explicarei cada etapa em detalhes, justificando as decisões tomadas ao longo do processo."
   ]
  },
  {
   "cell_type": "markdown",
   "metadata": {},
   "source": [
    "## **2. Configurações Iniciais**"
   ]
  },
  {
   "cell_type": "markdown",
   "metadata": {},
   "source": [
    "### **2.1 Importando as Bibliotecas**"
   ]
  },
  {
   "cell_type": "code",
   "execution_count": 153,
   "metadata": {},
   "outputs": [],
   "source": [
    "import pandas as pd\n",
    "import numpy as np\n",
    "import seaborn as sns\n",
    "import matplotlib.pyplot as plt\n",
    "\n",
    "from sklearn.preprocessing import OneHotEncoder, LabelEncoder\n",
    "from sklearn.model_selection import train_test_split\n",
    "from sklearn.tree import DecisionTreeClassifier\n",
    "from sklearn.metrics import accuracy_score, f1_score, recall_score, precision_score, ConfusionMatrixDisplay, confusion_matrix\n",
    "\n",
    "import warnings\n",
    "warnings.filterwarnings(\"ignore\")"
   ]
  },
  {
   "cell_type": "markdown",
   "metadata": {},
   "source": [
    "## **2.2 Compeendendo a Base da Dados**\n",
    "- O dataset foi coletado do kaggle: https://www.kaggle.com/datasets/datahackers/state-of-data-2022\n",
    "- Mais detalhes no site da pesquisa: https://www.stateofdata.com.br\n",
    "- Os dados da pesquisa foram segmentados em oito partes, sendo as mais adequadas para nossas previsões as partes 1, 2 e 4, que correspondem, respectivamente, \n",
    "    - Dados demográficos, \n",
    "    - Dados sobre a carreira  \n",
    "    - Conhecimentos na área de dados."
   ]
  },
  {
   "cell_type": "markdown",
   "metadata": {},
   "source": [
    "# **3. Preocesso KDD**\n",
    "A seguir, vamos explorar a base de dados a fim de gerar um modelo que concentre o conhecimento extraído que seja necessário para a execução da tarefa de classificação para encontrar qual o *cargo* ideal para um candidato a uma vaga na área de dados. O processo KDD ajuda a organizar esse processo e a garantir um mínimo de procedimentos imprescendíveis para a exploração de qualquer tarefa de extração de conhecimento. Dessa forma, vamos utilizar suas primeiras 3 etapas para a análise exploratória dos dados."
   ]
  },
  {
   "cell_type": "markdown",
   "metadata": {},
   "source": [
    "## **3.1 Seleção**\n",
    "A seleção trata da escolha do conjunto de dados alvo e escolha de subconjuntos de variáveis\n",
    "ou amostras na qual a descoberta de conhecimento será performada."
   ]
  },
  {
   "cell_type": "code",
   "execution_count": 154,
   "metadata": {},
   "outputs": [
    {
     "data": {
      "text/html": [
       "<div>\n",
       "<style scoped>\n",
       "    .dataframe tbody tr th:only-of-type {\n",
       "        vertical-align: middle;\n",
       "    }\n",
       "\n",
       "    .dataframe tbody tr th {\n",
       "        vertical-align: top;\n",
       "    }\n",
       "\n",
       "    .dataframe thead th {\n",
       "        text-align: right;\n",
       "    }\n",
       "</style>\n",
       "<table border=\"1\" class=\"dataframe\">\n",
       "  <thead>\n",
       "    <tr style=\"text-align: right;\">\n",
       "      <th></th>\n",
       "      <th>idade</th>\n",
       "      <th>genero</th>\n",
       "      <th>etnia</th>\n",
       "      <th>pcd</th>\n",
       "      <th>vive_no_brasil</th>\n",
       "      <th>estado_moradia</th>\n",
       "      <th>nivel_ensino</th>\n",
       "      <th>formacao</th>\n",
       "      <th>tempo_experiencia_dados</th>\n",
       "      <th>linguagens_preferidas</th>\n",
       "      <th>bancos_de_dados</th>\n",
       "      <th>cloud_preferida</th>\n",
       "      <th>cargo</th>\n",
       "    </tr>\n",
       "  </thead>\n",
       "  <tbody>\n",
       "    <tr>\n",
       "      <th>0</th>\n",
       "      <td>39.0</td>\n",
       "      <td>Masculino</td>\n",
       "      <td>Parda</td>\n",
       "      <td>Não</td>\n",
       "      <td>True</td>\n",
       "      <td>Distrito Federal (DF)</td>\n",
       "      <td>Pós-graduação</td>\n",
       "      <td>Computação / Engenharia de Software / Sistemas...</td>\n",
       "      <td>de 1 a 2 anos</td>\n",
       "      <td>R</td>\n",
       "      <td>PostgreSQL, Oracle, MySQL, SQL SERVER</td>\n",
       "      <td>Amazon Web Services (AWS)</td>\n",
       "      <td>DBA/Administrador de Banco de Dados</td>\n",
       "    </tr>\n",
       "    <tr>\n",
       "      <th>1</th>\n",
       "      <td>32.0</td>\n",
       "      <td>Masculino</td>\n",
       "      <td>Parda</td>\n",
       "      <td>Não</td>\n",
       "      <td>True</td>\n",
       "      <td>Pará (PA)</td>\n",
       "      <td>Graduação/Bacharelado</td>\n",
       "      <td>Outras Engenharias</td>\n",
       "      <td>de 3 a 4 anos</td>\n",
       "      <td>NaN</td>\n",
       "      <td>NaN</td>\n",
       "      <td>NaN</td>\n",
       "      <td>NaN</td>\n",
       "    </tr>\n",
       "    <tr>\n",
       "      <th>2</th>\n",
       "      <td>53.0</td>\n",
       "      <td>Masculino</td>\n",
       "      <td>Branca</td>\n",
       "      <td>Não</td>\n",
       "      <td>True</td>\n",
       "      <td>Distrito Federal (DF)</td>\n",
       "      <td>Pós-graduação</td>\n",
       "      <td>Computação / Engenharia de Software / Sistemas...</td>\n",
       "      <td>de 3 a 4 anos</td>\n",
       "      <td>Python</td>\n",
       "      <td>PostgreSQL, MySQL, Oracle, DB2</td>\n",
       "      <td>Amazon Web Services (AWS)</td>\n",
       "      <td>Desenvolvedor/ Engenheiro de Software/ Analist...</td>\n",
       "    </tr>\n",
       "    <tr>\n",
       "      <th>3</th>\n",
       "      <td>27.0</td>\n",
       "      <td>Masculino</td>\n",
       "      <td>Branca</td>\n",
       "      <td>Não</td>\n",
       "      <td>True</td>\n",
       "      <td>Minas Gerais (MG)</td>\n",
       "      <td>Doutorado ou Phd</td>\n",
       "      <td>Estatística/ Matemática / Matemática Computaci...</td>\n",
       "      <td>de 4 a 6 anos</td>\n",
       "      <td>Python</td>\n",
       "      <td>Google BigQuery</td>\n",
       "      <td>Não sei opinar</td>\n",
       "      <td>Cientista de Dados/Data Scientist</td>\n",
       "    </tr>\n",
       "    <tr>\n",
       "      <th>4</th>\n",
       "      <td>46.0</td>\n",
       "      <td>Feminino</td>\n",
       "      <td>Branca</td>\n",
       "      <td>Não</td>\n",
       "      <td>True</td>\n",
       "      <td>Pará (PA)</td>\n",
       "      <td>Pós-graduação</td>\n",
       "      <td>Computação / Engenharia de Software / Sistemas...</td>\n",
       "      <td>Não tenho experiência na área de dados</td>\n",
       "      <td>Python</td>\n",
       "      <td>Microsoft Access</td>\n",
       "      <td>Amazon Web Services (AWS)</td>\n",
       "      <td>Desenvolvedor/ Engenheiro de Software/ Analist...</td>\n",
       "    </tr>\n",
       "  </tbody>\n",
       "</table>\n",
       "</div>"
      ],
      "text/plain": [
       "   idade     genero   etnia  pcd  vive_no_brasil         estado_moradia  \\\n",
       "0   39.0  Masculino   Parda  Não            True  Distrito Federal (DF)   \n",
       "1   32.0  Masculino   Parda  Não            True              Pará (PA)   \n",
       "2   53.0  Masculino  Branca  Não            True  Distrito Federal (DF)   \n",
       "3   27.0  Masculino  Branca  Não            True      Minas Gerais (MG)   \n",
       "4   46.0   Feminino  Branca  Não            True              Pará (PA)   \n",
       "\n",
       "            nivel_ensino                                           formacao  \\\n",
       "0          Pós-graduação  Computação / Engenharia de Software / Sistemas...   \n",
       "1  Graduação/Bacharelado                                 Outras Engenharias   \n",
       "2          Pós-graduação  Computação / Engenharia de Software / Sistemas...   \n",
       "3       Doutorado ou Phd  Estatística/ Matemática / Matemática Computaci...   \n",
       "4          Pós-graduação  Computação / Engenharia de Software / Sistemas...   \n",
       "\n",
       "                  tempo_experiencia_dados linguagens_preferidas  \\\n",
       "0                           de 1 a 2 anos                     R   \n",
       "1                           de 3 a 4 anos                   NaN   \n",
       "2                           de 3 a 4 anos                Python   \n",
       "3                           de 4 a 6 anos                Python   \n",
       "4  Não tenho experiência na área de dados                Python   \n",
       "\n",
       "                         bancos_de_dados            cloud_preferida  \\\n",
       "0  PostgreSQL, Oracle, MySQL, SQL SERVER  Amazon Web Services (AWS)   \n",
       "1                                    NaN                        NaN   \n",
       "2         PostgreSQL, MySQL, Oracle, DB2  Amazon Web Services (AWS)   \n",
       "3                        Google BigQuery             Não sei opinar   \n",
       "4                       Microsoft Access  Amazon Web Services (AWS)   \n",
       "\n",
       "                                               cargo  \n",
       "0                DBA/Administrador de Banco de Dados  \n",
       "1                                                NaN  \n",
       "2  Desenvolvedor/ Engenheiro de Software/ Analist...  \n",
       "3                  Cientista de Dados/Data Scientist  \n",
       "4  Desenvolvedor/ Engenheiro de Software/ Analist...  "
      ]
     },
     "execution_count": 154,
     "metadata": {},
     "output_type": "execute_result"
    }
   ],
   "source": [
    "# Importando a base de dados\n",
    "df = pd.read_csv('../base/State_of_data_2022.csv')\n",
    "\n",
    "# Função para filtrar colunas\n",
    "def filtrar_colunas(df):\n",
    "    colunas_desejadas = [\n",
    "        \"('P1_a ', 'Idade')\", \"('P1_b ', 'Genero')\", \"('P1_c ', 'Cor/raca/etnia')\", \"('P1_d ', 'PCD')\", \"('P1_g ', 'vive_no_brasil')\", \"('P1_i ', 'Estado onde mora')\",\n",
    "        \"('P1_l ', 'Nivel de Ensino')\", \"('P1_m ', 'Área de Formação')\", \"('P2_i ', 'Quanto tempo de experiência na área de dados você tem?')\", \"('P4_f ', 'Entre as linguagens listadas abaixo, qual é a sua preferida?')\",\n",
    "        \"('P4_g ', 'Quais dos bancos de dados/fontes de dados listados abaixo você utiliza no trabalho?')\", \"('P4_h ', 'Dentre as opções listadas, qual sua Cloud preferida?')\", \"('P2_f ', 'Cargo Atual')\"\n",
    "    ]\n",
    "    return df[colunas_desejadas]\n",
    "\n",
    "# Aplicando a função\n",
    "df = filtrar_colunas(df)\n",
    "\n",
    "# Renomeando as colunas\n",
    "mapeamento_colunas = {\n",
    "    \"('P1_a ', 'Idade')\": 'idade',\n",
    "    \"('P1_b ', 'Genero')\": 'genero',\n",
    "    \"('P1_c ', 'Cor/raca/etnia')\": 'etnia',\n",
    "    \"('P1_d ', 'PCD')\": 'pcd',\n",
    "    \"('P1_g ', 'vive_no_brasil')\": 'vive_no_brasil',\n",
    "    \"('P1_i ', 'Estado onde mora')\": 'estado_moradia',\n",
    "    \"('P1_l ', 'Nivel de Ensino')\": 'nivel_ensino',\n",
    "    \"('P1_m ', 'Área de Formação')\": 'formacao',\n",
    "    \"('P2_i ', 'Quanto tempo de experiência na área de dados você tem?')\": 'tempo_experiencia_dados',\n",
    "    \"('P4_f ', 'Entre as linguagens listadas abaixo, qual é a sua preferida?')\": 'linguagens_preferidas',\n",
    "    \"('P4_g ', 'Quais dos bancos de dados/fontes de dados listados abaixo você utiliza no trabalho?')\": 'bancos_de_dados',\n",
    "    \"('P4_h ', 'Dentre as opções listadas, qual sua Cloud preferida?')\": 'cloud_preferida',\n",
    "    \"('P2_f ', 'Cargo Atual')\": 'cargo'\n",
    "}\n",
    "\n",
    "df.rename(columns=mapeamento_colunas, inplace=True)\n",
    "df.head()"
   ]
  },
  {
   "cell_type": "code",
   "execution_count": 155,
   "metadata": {},
   "outputs": [
    {
     "name": "stdout",
     "output_type": "stream",
     "text": [
      "O dataset tem 4271 linhas e 13 colunas\n"
     ]
    }
   ],
   "source": [
    "print(f'O dataset tem {df.shape[0]} linhas e {df.shape[1]} colunas')"
   ]
  },
  {
   "cell_type": "code",
   "execution_count": 156,
   "metadata": {},
   "outputs": [
    {
     "data": {
      "text/plain": [
       "pcd\n",
       "Não                     4198\n",
       "Sim                       54\n",
       "Prefiro não informar      19\n",
       "Name: count, dtype: int64"
      ]
     },
     "execution_count": 156,
     "metadata": {},
     "output_type": "execute_result"
    }
   ],
   "source": [
    "df.pcd.value_counts()"
   ]
  },
  {
   "cell_type": "code",
   "execution_count": 157,
   "metadata": {},
   "outputs": [],
   "source": [
    "# Dropando a coluna 'pcd'\n",
    "df.drop('pcd', axis=1, inplace=True)"
   ]
  },
  {
   "cell_type": "markdown",
   "metadata": {},
   "source": [
    "## **3.2 Pré-processamento**\n",
    "O pré-processamento trata da remoção de ruído e manipulação de dados ausentes e discrepantes. \\\n",
    "Aqui serão abordadas as tarefas de remoção de dados ausentes, e remoção de outiliers."
   ]
  },
  {
   "cell_type": "code",
   "execution_count": 158,
   "metadata": {},
   "outputs": [
    {
     "name": "stdout",
     "output_type": "stream",
     "text": [
      "<class 'pandas.core.frame.DataFrame'>\n",
      "RangeIndex: 4271 entries, 0 to 4270\n",
      "Data columns (total 12 columns):\n",
      " #   Column                   Non-Null Count  Dtype  \n",
      "---  ------                   --------------  -----  \n",
      " 0   idade                    4197 non-null   float64\n",
      " 1   genero                   4262 non-null   object \n",
      " 2   etnia                    4271 non-null   object \n",
      " 3   vive_no_brasil           4271 non-null   bool   \n",
      " 4   estado_moradia           4156 non-null   object \n",
      " 5   nivel_ensino             4271 non-null   object \n",
      " 6   formacao                 4149 non-null   object \n",
      " 7   tempo_experiencia_dados  3694 non-null   object \n",
      " 8   linguagens_preferidas    2979 non-null   object \n",
      " 9   bancos_de_dados          2978 non-null   object \n",
      " 10  cloud_preferida          2981 non-null   object \n",
      " 11  cargo                    2981 non-null   object \n",
      "dtypes: bool(1), float64(1), object(10)\n",
      "memory usage: 371.3+ KB\n"
     ]
    }
   ],
   "source": [
    "df.info()"
   ]
  },
  {
   "cell_type": "code",
   "execution_count": 159,
   "metadata": {},
   "outputs": [
    {
     "data": {
      "text/plain": [
       "idade                      0.017326\n",
       "genero                     0.002107\n",
       "etnia                      0.000000\n",
       "vive_no_brasil             0.000000\n",
       "estado_moradia             0.026926\n",
       "nivel_ensino               0.000000\n",
       "formacao                   0.028565\n",
       "tempo_experiencia_dados    0.135097\n",
       "linguagens_preferidas      0.302505\n",
       "bancos_de_dados            0.302739\n",
       "cloud_preferida            0.302037\n",
       "cargo                      0.302037\n",
       "dtype: float64"
      ]
     },
     "execution_count": 159,
     "metadata": {},
     "output_type": "execute_result"
    }
   ],
   "source": [
    "# Verificando os valores nulos \n",
    "df.isna().sum() / df.shape[0]"
   ]
  },
  {
   "cell_type": "markdown",
   "metadata": {},
   "source": [
    "- **Observação**  \n",
    "    - As colunas *linguagens_preferidas*, *bancos_de_dados*, *cloud_preferida* e *cargo* têm 30% das linhas com dados nulos;\n",
    "    - A coluna *tempo_experiencia_dados* tem 13% da dados faltantes\n",
    "    - As colunas *formacao* e *estado_moradia* estão com 2% de dados nulos;\n",
    "    - E 1% de *idade* está faltante e 0.2% de *genero* está nulo.\n",
    "\n",
    "Então, devemos definir uma estratégia de tratamento, que pode incluir a remoção dessas linhas, a substituição por valores padrão ou a imputação com base em padrões identificados nos dados disponíveis. A escolha dependerá da distribuição dos valores e do impacto na qualidade do modelo."
   ]
  },
  {
   "cell_type": "markdown",
   "metadata": {},
   "source": [
    "### **3.2.1 Remoção dos nulos da idade**"
   ]
  },
  {
   "cell_type": "code",
   "execution_count": 160,
   "metadata": {},
   "outputs": [
    {
     "name": "stdout",
     "output_type": "stream",
     "text": [
      "Média de idade: 31.169168453657374\n",
      "Mediana de idade: 30.0\n"
     ]
    }
   ],
   "source": [
    "# Verificando as média e mediana da idade\n",
    "print(f'Média de idade: {df.idade.mean()}')\n",
    "print(f'Mediana de idade: {df.idade.median()}')\n"
   ]
  },
  {
   "cell_type": "markdown",
   "metadata": {},
   "source": [
    "Como a média e a mediana da idade estão próximas podemos trocar os valores nulos pela mediana. "
   ]
  },
  {
   "cell_type": "code",
   "execution_count": 161,
   "metadata": {},
   "outputs": [],
   "source": [
    "# Trocando pela mediana os valores nulos da idade\n",
    "df.idade.fillna(df.idade.median(), inplace=True)"
   ]
  },
  {
   "cell_type": "markdown",
   "metadata": {},
   "source": [
    "### **3.2.2 Remoção dos nulos de gênero**"
   ]
  },
  {
   "cell_type": "code",
   "execution_count": 162,
   "metadata": {},
   "outputs": [
    {
     "data": {
      "text/plain": [
       "array(['Masculino', 'Feminino', nan, 'Prefiro não informar'], dtype=object)"
      ]
     },
     "execution_count": 162,
     "metadata": {},
     "output_type": "execute_result"
    }
   ],
   "source": [
    "# Vendo os valores únicos da coluna genero\n",
    "df.genero.unique()"
   ]
  },
  {
   "cell_type": "code",
   "execution_count": 163,
   "metadata": {},
   "outputs": [
    {
     "data": {
      "image/png": "[encoded data removed]",
      "text/plain": [
       "<Figure size 1000x500 with 1 Axes>"
      ]
     },
     "metadata": {},
     "output_type": "display_data"
    }
   ],
   "source": [
    "# Grafico de barras para a coluna genero\n",
    "plt.figure(figsize=(10, 5))\n",
    "sns.countplot(data=df, x='genero')\n",
    "plt.title('Distribuição de gênero')\n",
    "plt.show()"
   ]
  },
  {
   "cell_type": "markdown",
   "metadata": {},
   "source": [
    "Como os dados faltantes na coluna *gênero* representam menos de 1%, podemos substituí-los por \"Prefiro não informar\"."
   ]
  },
  {
   "cell_type": "code",
   "execution_count": 164,
   "metadata": {},
   "outputs": [],
   "source": [
    "# Substituindo os valores nulos da coluna genero\n",
    "df.genero.fillna('Prefiro não informar', inplace=True)"
   ]
  },
  {
   "cell_type": "markdown",
   "metadata": {},
   "source": [
    "### **3.2.3 Remoção dos nulos de estado moradia**"
   ]
  },
  {
   "cell_type": "code",
   "execution_count": 165,
   "metadata": {},
   "outputs": [
    {
     "data": {
      "image/png": "[encoded data removed]",
      "text/plain": [
       "<Figure size 1000x500 with 1 Axes>"
      ]
     },
     "metadata": {},
     "output_type": "display_data"
    }
   ],
   "source": [
    "# Grafico de barras para a coluna estado_moradia\n",
    "plt.figure(figsize=(10, 5))\n",
    "sns.countplot(data=df, y='estado_moradia')\n",
    "plt.title('Distribuição de estado de moradia')\n",
    "plt.xticks(rotation=45)\n",
    "plt.show()"
   ]
  },
  {
   "cell_type": "markdown",
   "metadata": {},
   "source": [
    "Como a quantidade de valores nulos na coluna é insignificante, a melhor abordagem é trocar os nulos pela moda da coluna, que no caso seria São Paulo."
   ]
  },
  {
   "cell_type": "code",
   "execution_count": 166,
   "metadata": {},
   "outputs": [],
   "source": [
    "# Substituindo os valores nulos da coluna estado_moradia\n",
    "df.estado_moradia.fillna('São Paulo (SP)', inplace=True)"
   ]
  },
  {
   "cell_type": "markdown",
   "metadata": {},
   "source": [
    "### **3.2.4 Remoção dos nulos da formação**"
   ]
  },
  {
   "cell_type": "code",
   "execution_count": 167,
   "metadata": {},
   "outputs": [
    {
     "data": {
      "text/plain": [
       "formacao\n",
       "Computação / Engenharia de Software / Sistemas de Informação/ TI          1543\n",
       "Outras Engenharias                                                         941\n",
       "Economia/ Administração / Contabilidade / Finanças/ Negócios               641\n",
       "Estatística/ Matemática / Matemática Computacional/ Ciências Atuariais     405\n",
       "Outra opção                                                                200\n",
       "Marketing / Publicidade / Comunicação / Jornalismo                         122\n",
       "Química / Física                                                           112\n",
       "Ciências Biológicas/ Farmácia/ Medicina/ Área da Saúde                     111\n",
       "Ciências Sociais                                                            74\n",
       "Name: count, dtype: int64"
      ]
     },
     "execution_count": 167,
     "metadata": {},
     "output_type": "execute_result"
    }
   ],
   "source": [
    "# valores únicos da coluna nivel_ensino\n",
    "df.formacao.value_counts()"
   ]
  },
  {
   "cell_type": "markdown",
   "metadata": {},
   "source": [
    "A mesma abordagem será aplicada para tratar os valores nulos na coluna *formacao*, já que a taxa de ausência é de apenas 2%."
   ]
  },
  {
   "cell_type": "code",
   "execution_count": 168,
   "metadata": {},
   "outputs": [],
   "source": [
    "# Substituindo os valores nulos da coluna formacao\n",
    "df.formacao.fillna('Computação / Engenharia de Software / Sistemas de Informação/ TI', inplace=True)"
   ]
  },
  {
   "cell_type": "markdown",
   "metadata": {},
   "source": [
    "### **3.2.5 Remoção dos nulos do tempo de experiencia**"
   ]
  },
  {
   "cell_type": "code",
   "execution_count": 169,
   "metadata": {},
   "outputs": [
    {
     "data": {
      "text/plain": [
       "tempo_experiencia_dados\n",
       "de 1 a 2 anos                             980\n",
       "de 3 a 4 anos                             711\n",
       "Menos de 1 ano                            596\n",
       "de 4 a 6 anos                             522\n",
       "Mais de 10 anos                           403\n",
       "de 7 a 10 anos                            294\n",
       "Não tenho experiência na área de dados    188\n",
       "Name: count, dtype: int64"
      ]
     },
     "execution_count": 169,
     "metadata": {},
     "output_type": "execute_result"
    }
   ],
   "source": [
    "# valores únicos da coluna tempo_experiencia_dados\n",
    "df.tempo_experiencia_dados.value_counts()"
   ]
  },
  {
   "cell_type": "markdown",
   "metadata": {},
   "source": [
    "Como a quantidade de valores nulos na coluna não é insignificante, a melhor abordagem é criar uma nova categoria, \"Não informado\". Preencher os valores ausentes com a moda da coluna poderia introduzir um viés no modelo, afetando a qualidade das previsões."
   ]
  },
  {
   "cell_type": "code",
   "execution_count": 170,
   "metadata": {},
   "outputs": [],
   "source": [
    "# Substituindo os valores nulos da coluna tempo_experiencia_dados\n",
    "df.tempo_experiencia_dados.fillna('Não informado', inplace=True)"
   ]
  },
  {
   "cell_type": "markdown",
   "metadata": {},
   "source": [
    "### **3.2.5 Remoção dos nulos das linguagens preferidas, bancos de dados, cloud preferida e cargo**       "
   ]
  },
  {
   "cell_type": "code",
   "execution_count": 171,
   "metadata": {},
   "outputs": [
    {
     "data": {
      "text/html": [
       "<div>\n",
       "<style scoped>\n",
       "    .dataframe tbody tr th:only-of-type {\n",
       "        vertical-align: middle;\n",
       "    }\n",
       "\n",
       "    .dataframe tbody tr th {\n",
       "        vertical-align: top;\n",
       "    }\n",
       "\n",
       "    .dataframe thead th {\n",
       "        text-align: right;\n",
       "    }\n",
       "</style>\n",
       "<table border=\"1\" class=\"dataframe\">\n",
       "  <thead>\n",
       "    <tr style=\"text-align: right;\">\n",
       "      <th></th>\n",
       "      <th>idade</th>\n",
       "      <th>genero</th>\n",
       "      <th>etnia</th>\n",
       "      <th>vive_no_brasil</th>\n",
       "      <th>estado_moradia</th>\n",
       "      <th>nivel_ensino</th>\n",
       "      <th>formacao</th>\n",
       "      <th>tempo_experiencia_dados</th>\n",
       "      <th>linguagens_preferidas</th>\n",
       "      <th>bancos_de_dados</th>\n",
       "      <th>cloud_preferida</th>\n",
       "      <th>cargo</th>\n",
       "    </tr>\n",
       "  </thead>\n",
       "  <tbody>\n",
       "    <tr>\n",
       "      <th>1</th>\n",
       "      <td>32.0</td>\n",
       "      <td>Masculino</td>\n",
       "      <td>Parda</td>\n",
       "      <td>True</td>\n",
       "      <td>Pará (PA)</td>\n",
       "      <td>Graduação/Bacharelado</td>\n",
       "      <td>Outras Engenharias</td>\n",
       "      <td>de 3 a 4 anos</td>\n",
       "      <td>NaN</td>\n",
       "      <td>NaN</td>\n",
       "      <td>NaN</td>\n",
       "      <td>NaN</td>\n",
       "    </tr>\n",
       "    <tr>\n",
       "      <th>12</th>\n",
       "      <td>31.0</td>\n",
       "      <td>Masculino</td>\n",
       "      <td>Branca</td>\n",
       "      <td>True</td>\n",
       "      <td>São Paulo (SP)</td>\n",
       "      <td>Doutorado ou Phd</td>\n",
       "      <td>Outras Engenharias</td>\n",
       "      <td>Não informado</td>\n",
       "      <td>NaN</td>\n",
       "      <td>NaN</td>\n",
       "      <td>NaN</td>\n",
       "      <td>NaN</td>\n",
       "    </tr>\n",
       "    <tr>\n",
       "      <th>16</th>\n",
       "      <td>31.0</td>\n",
       "      <td>Masculino</td>\n",
       "      <td>Parda</td>\n",
       "      <td>True</td>\n",
       "      <td>Paraíba (PB)</td>\n",
       "      <td>Doutorado ou Phd</td>\n",
       "      <td>Estatística/ Matemática / Matemática Computaci...</td>\n",
       "      <td>de 1 a 2 anos</td>\n",
       "      <td>NaN</td>\n",
       "      <td>NaN</td>\n",
       "      <td>NaN</td>\n",
       "      <td>NaN</td>\n",
       "    </tr>\n",
       "    <tr>\n",
       "      <th>17</th>\n",
       "      <td>29.0</td>\n",
       "      <td>Masculino</td>\n",
       "      <td>Branca</td>\n",
       "      <td>True</td>\n",
       "      <td>Mato Grosso (MT)</td>\n",
       "      <td>Mestrado</td>\n",
       "      <td>Estatística/ Matemática / Matemática Computaci...</td>\n",
       "      <td>de 7 a 10 anos</td>\n",
       "      <td>NaN</td>\n",
       "      <td>NaN</td>\n",
       "      <td>NaN</td>\n",
       "      <td>NaN</td>\n",
       "    </tr>\n",
       "    <tr>\n",
       "      <th>20</th>\n",
       "      <td>37.0</td>\n",
       "      <td>Masculino</td>\n",
       "      <td>Branca</td>\n",
       "      <td>True</td>\n",
       "      <td>São Paulo (SP)</td>\n",
       "      <td>Pós-graduação</td>\n",
       "      <td>Outras Engenharias</td>\n",
       "      <td>de 4 a 6 anos</td>\n",
       "      <td>NaN</td>\n",
       "      <td>NaN</td>\n",
       "      <td>NaN</td>\n",
       "      <td>NaN</td>\n",
       "    </tr>\n",
       "  </tbody>\n",
       "</table>\n",
       "</div>"
      ],
      "text/plain": [
       "    idade     genero   etnia  vive_no_brasil    estado_moradia  \\\n",
       "1    32.0  Masculino   Parda            True         Pará (PA)   \n",
       "12   31.0  Masculino  Branca            True    São Paulo (SP)   \n",
       "16   31.0  Masculino   Parda            True      Paraíba (PB)   \n",
       "17   29.0  Masculino  Branca            True  Mato Grosso (MT)   \n",
       "20   37.0  Masculino  Branca            True    São Paulo (SP)   \n",
       "\n",
       "             nivel_ensino                                           formacao  \\\n",
       "1   Graduação/Bacharelado                                 Outras Engenharias   \n",
       "12       Doutorado ou Phd                                 Outras Engenharias   \n",
       "16       Doutorado ou Phd  Estatística/ Matemática / Matemática Computaci...   \n",
       "17               Mestrado  Estatística/ Matemática / Matemática Computaci...   \n",
       "20          Pós-graduação                                 Outras Engenharias   \n",
       "\n",
       "   tempo_experiencia_dados linguagens_preferidas bancos_de_dados  \\\n",
       "1            de 3 a 4 anos                   NaN             NaN   \n",
       "12           Não informado                   NaN             NaN   \n",
       "16           de 1 a 2 anos                   NaN             NaN   \n",
       "17          de 7 a 10 anos                   NaN             NaN   \n",
       "20           de 4 a 6 anos                   NaN             NaN   \n",
       "\n",
       "   cloud_preferida cargo  \n",
       "1              NaN   NaN  \n",
       "12             NaN   NaN  \n",
       "16             NaN   NaN  \n",
       "17             NaN   NaN  \n",
       "20             NaN   NaN  "
      ]
     },
     "execution_count": 171,
     "metadata": {},
     "output_type": "execute_result"
    }
   ],
   "source": [
    "# Dados onde a linguagem preferida ou bancos_de_dados ou cloud_preferida ou cargo são nulos\n",
    "df_nulos = df[df.linguagens_preferidas.isna() | df.bancos_de_dados.isna() | df.cloud_preferida.isna() | df.cargo.isna()]\n",
    "\n",
    "# Vendos os dados onde a linguagem preferida é nula\n",
    "df_nulos.head()"
   ]
  },
  {
   "cell_type": "code",
   "execution_count": 172,
   "metadata": {},
   "outputs": [
    {
     "data": {
      "text/plain": [
       "0.30273940529150084"
      ]
     },
     "execution_count": 172,
     "metadata": {},
     "output_type": "execute_result"
    }
   ],
   "source": [
    "# Vendo quantos % dos dados são nulos\n",
    "df_nulos.shape[0] / df.shape[0]"
   ]
  },
  {
   "cell_type": "markdown",
   "metadata": {},
   "source": [
    "Como as quatro colunas possuem **30% de valores nulos** e a contagem total dos valores ausentes é a mesma, isso indica que **as mesmas linhas** possuem esses dados faltantes. Isso sugere que esses registros podem estar incompletos de forma significativa, dificultando a imputação de valores confiáveis.  \n",
    "\n",
    "Se houvesse apenas uma ou duas colunas com valores nulos, poderíamos tentar substituições baseadas em padrões dos dados. No entanto, como as quatro colunas possuem a mesma distribuição de valores ausentes, significa que um terço do dataset está com informações incompletas nessas variáveis.  \n",
    "\n",
    "Dado esse cenário, a **melhor abordagem é remover essas linhas**, mesmo que isso signifique perder **30% do dataset**. Manter registros com muitos valores ausentes pode introduzir ruído e prejudicar a qualidade do modelo, pois a imputação nesse caso poderia ser artificial e enviesada.  "
   ]
  },
  {
   "cell_type": "code",
   "execution_count": 173,
   "metadata": {},
   "outputs": [
    {
     "data": {
      "text/html": [
       "<div>\n",
       "<style scoped>\n",
       "    .dataframe tbody tr th:only-of-type {\n",
       "        vertical-align: middle;\n",
       "    }\n",
       "\n",
       "    .dataframe tbody tr th {\n",
       "        vertical-align: top;\n",
       "    }\n",
       "\n",
       "    .dataframe thead th {\n",
       "        text-align: right;\n",
       "    }\n",
       "</style>\n",
       "<table border=\"1\" class=\"dataframe\">\n",
       "  <thead>\n",
       "    <tr style=\"text-align: right;\">\n",
       "      <th></th>\n",
       "      <th>idade</th>\n",
       "      <th>genero</th>\n",
       "      <th>etnia</th>\n",
       "      <th>vive_no_brasil</th>\n",
       "      <th>estado_moradia</th>\n",
       "      <th>nivel_ensino</th>\n",
       "      <th>formacao</th>\n",
       "      <th>tempo_experiencia_dados</th>\n",
       "      <th>linguagens_preferidas</th>\n",
       "      <th>bancos_de_dados</th>\n",
       "      <th>cloud_preferida</th>\n",
       "      <th>cargo</th>\n",
       "    </tr>\n",
       "  </thead>\n",
       "  <tbody>\n",
       "    <tr>\n",
       "      <th>0</th>\n",
       "      <td>39.0</td>\n",
       "      <td>Masculino</td>\n",
       "      <td>Parda</td>\n",
       "      <td>True</td>\n",
       "      <td>Distrito Federal (DF)</td>\n",
       "      <td>Pós-graduação</td>\n",
       "      <td>Computação / Engenharia de Software / Sistemas...</td>\n",
       "      <td>de 1 a 2 anos</td>\n",
       "      <td>R</td>\n",
       "      <td>PostgreSQL, Oracle, MySQL, SQL SERVER</td>\n",
       "      <td>Amazon Web Services (AWS)</td>\n",
       "      <td>DBA/Administrador de Banco de Dados</td>\n",
       "    </tr>\n",
       "    <tr>\n",
       "      <th>2</th>\n",
       "      <td>53.0</td>\n",
       "      <td>Masculino</td>\n",
       "      <td>Branca</td>\n",
       "      <td>True</td>\n",
       "      <td>Distrito Federal (DF)</td>\n",
       "      <td>Pós-graduação</td>\n",
       "      <td>Computação / Engenharia de Software / Sistemas...</td>\n",
       "      <td>de 3 a 4 anos</td>\n",
       "      <td>Python</td>\n",
       "      <td>PostgreSQL, MySQL, Oracle, DB2</td>\n",
       "      <td>Amazon Web Services (AWS)</td>\n",
       "      <td>Desenvolvedor/ Engenheiro de Software/ Analist...</td>\n",
       "    </tr>\n",
       "    <tr>\n",
       "      <th>3</th>\n",
       "      <td>27.0</td>\n",
       "      <td>Masculino</td>\n",
       "      <td>Branca</td>\n",
       "      <td>True</td>\n",
       "      <td>Minas Gerais (MG)</td>\n",
       "      <td>Doutorado ou Phd</td>\n",
       "      <td>Estatística/ Matemática / Matemática Computaci...</td>\n",
       "      <td>de 4 a 6 anos</td>\n",
       "      <td>Python</td>\n",
       "      <td>Google BigQuery</td>\n",
       "      <td>Não sei opinar</td>\n",
       "      <td>Cientista de Dados/Data Scientist</td>\n",
       "    </tr>\n",
       "    <tr>\n",
       "      <th>4</th>\n",
       "      <td>46.0</td>\n",
       "      <td>Feminino</td>\n",
       "      <td>Branca</td>\n",
       "      <td>True</td>\n",
       "      <td>Pará (PA)</td>\n",
       "      <td>Pós-graduação</td>\n",
       "      <td>Computação / Engenharia de Software / Sistemas...</td>\n",
       "      <td>Não tenho experiência na área de dados</td>\n",
       "      <td>Python</td>\n",
       "      <td>Microsoft Access</td>\n",
       "      <td>Amazon Web Services (AWS)</td>\n",
       "      <td>Desenvolvedor/ Engenheiro de Software/ Analist...</td>\n",
       "    </tr>\n",
       "    <tr>\n",
       "      <th>5</th>\n",
       "      <td>32.0</td>\n",
       "      <td>Feminino</td>\n",
       "      <td>Parda</td>\n",
       "      <td>True</td>\n",
       "      <td>Ceará (CE)</td>\n",
       "      <td>Pós-graduação</td>\n",
       "      <td>Ciências Biológicas/ Farmácia/ Medicina/ Área ...</td>\n",
       "      <td>Não tenho experiência na área de dados</td>\n",
       "      <td>Python</td>\n",
       "      <td>Google BigQuery</td>\n",
       "      <td>Google Cloud (GCP)</td>\n",
       "      <td>Professor</td>\n",
       "    </tr>\n",
       "  </tbody>\n",
       "</table>\n",
       "</div>"
      ],
      "text/plain": [
       "   idade     genero   etnia  vive_no_brasil         estado_moradia  \\\n",
       "0   39.0  Masculino   Parda            True  Distrito Federal (DF)   \n",
       "2   53.0  Masculino  Branca            True  Distrito Federal (DF)   \n",
       "3   27.0  Masculino  Branca            True      Minas Gerais (MG)   \n",
       "4   46.0   Feminino  Branca            True              Pará (PA)   \n",
       "5   32.0   Feminino   Parda            True             Ceará (CE)   \n",
       "\n",
       "       nivel_ensino                                           formacao  \\\n",
       "0     Pós-graduação  Computação / Engenharia de Software / Sistemas...   \n",
       "2     Pós-graduação  Computação / Engenharia de Software / Sistemas...   \n",
       "3  Doutorado ou Phd  Estatística/ Matemática / Matemática Computaci...   \n",
       "4     Pós-graduação  Computação / Engenharia de Software / Sistemas...   \n",
       "5     Pós-graduação  Ciências Biológicas/ Farmácia/ Medicina/ Área ...   \n",
       "\n",
       "                  tempo_experiencia_dados linguagens_preferidas  \\\n",
       "0                           de 1 a 2 anos                     R   \n",
       "2                           de 3 a 4 anos                Python   \n",
       "3                           de 4 a 6 anos                Python   \n",
       "4  Não tenho experiência na área de dados                Python   \n",
       "5  Não tenho experiência na área de dados                Python   \n",
       "\n",
       "                         bancos_de_dados            cloud_preferida  \\\n",
       "0  PostgreSQL, Oracle, MySQL, SQL SERVER  Amazon Web Services (AWS)   \n",
       "2         PostgreSQL, MySQL, Oracle, DB2  Amazon Web Services (AWS)   \n",
       "3                        Google BigQuery             Não sei opinar   \n",
       "4                       Microsoft Access  Amazon Web Services (AWS)   \n",
       "5                        Google BigQuery         Google Cloud (GCP)   \n",
       "\n",
       "                                               cargo  \n",
       "0                DBA/Administrador de Banco de Dados  \n",
       "2  Desenvolvedor/ Engenheiro de Software/ Analist...  \n",
       "3                  Cientista de Dados/Data Scientist  \n",
       "4  Desenvolvedor/ Engenheiro de Software/ Analist...  \n",
       "5                                          Professor  "
      ]
     },
     "execution_count": 173,
     "metadata": {},
     "output_type": "execute_result"
    }
   ],
   "source": [
    "# removendo os dados nulos\n",
    "df.dropna(inplace=True) \n",
    "df.head()"
   ]
  },
  {
   "cell_type": "markdown",
   "metadata": {},
   "source": [
    "## **3.2 Transformção**\n",
    "A transformação trata do destaque dos atributos que melhor representam os dados para a tarefa\n",
    "de descoberta de conhecimento, através de redução de dimensionalidade ou formatação dos\n",
    "dados para entrada em algoritmos de processamento."
   ]
  },
  {
   "cell_type": "markdown",
   "metadata": {},
   "source": [
    "## **3.2.1 Valores Únicos por Coluna**\n",
    "Vamos fazer uma contagem de valores únicos em cada coluna do DataFrame e exibir os resultados em um DataFrame ordenado. Essa análise é útil para entender a cardinalidade de cada coluna e identificar possíveis problemas, como atributos com alta cardinalidade ou colunas com um único valor."
   ]
  },
  {
   "cell_type": "code",
   "execution_count": 174,
   "metadata": {},
   "outputs": [
    {
     "data": {
      "text/html": [
       "<div>\n",
       "<style scoped>\n",
       "    .dataframe tbody tr th:only-of-type {\n",
       "        vertical-align: middle;\n",
       "    }\n",
       "\n",
       "    .dataframe tbody tr th {\n",
       "        vertical-align: top;\n",
       "    }\n",
       "\n",
       "    .dataframe thead th {\n",
       "        text-align: right;\n",
       "    }\n",
       "</style>\n",
       "<table border=\"1\" class=\"dataframe\">\n",
       "  <thead>\n",
       "    <tr style=\"text-align: right;\">\n",
       "      <th></th>\n",
       "      <th>count</th>\n",
       "      <th>type</th>\n",
       "    </tr>\n",
       "  </thead>\n",
       "  <tbody>\n",
       "    <tr>\n",
       "      <th>vive_no_brasil</th>\n",
       "      <td>2</td>\n",
       "      <td>bool</td>\n",
       "    </tr>\n",
       "    <tr>\n",
       "      <th>genero</th>\n",
       "      <td>3</td>\n",
       "      <td>object</td>\n",
       "    </tr>\n",
       "    <tr>\n",
       "      <th>cloud_preferida</th>\n",
       "      <td>5</td>\n",
       "      <td>object</td>\n",
       "    </tr>\n",
       "    <tr>\n",
       "      <th>etnia</th>\n",
       "      <td>7</td>\n",
       "      <td>object</td>\n",
       "    </tr>\n",
       "    <tr>\n",
       "      <th>nivel_ensino</th>\n",
       "      <td>7</td>\n",
       "      <td>object</td>\n",
       "    </tr>\n",
       "    <tr>\n",
       "      <th>tempo_experiencia_dados</th>\n",
       "      <td>7</td>\n",
       "      <td>object</td>\n",
       "    </tr>\n",
       "    <tr>\n",
       "      <th>formacao</th>\n",
       "      <td>9</td>\n",
       "      <td>object</td>\n",
       "    </tr>\n",
       "    <tr>\n",
       "      <th>cargo</th>\n",
       "      <td>18</td>\n",
       "      <td>object</td>\n",
       "    </tr>\n",
       "    <tr>\n",
       "      <th>estado_moradia</th>\n",
       "      <td>22</td>\n",
       "      <td>object</td>\n",
       "    </tr>\n",
       "    <tr>\n",
       "      <th>linguagens_preferidas</th>\n",
       "      <td>36</td>\n",
       "      <td>object</td>\n",
       "    </tr>\n",
       "    <tr>\n",
       "      <th>idade</th>\n",
       "      <td>37</td>\n",
       "      <td>float64</td>\n",
       "    </tr>\n",
       "    <tr>\n",
       "      <th>bancos_de_dados</th>\n",
       "      <td>1473</td>\n",
       "      <td>object</td>\n",
       "    </tr>\n",
       "  </tbody>\n",
       "</table>\n",
       "</div>"
      ],
      "text/plain": [
       "                         count     type\n",
       "vive_no_brasil               2     bool\n",
       "genero                       3   object\n",
       "cloud_preferida              5   object\n",
       "etnia                        7   object\n",
       "nivel_ensino                 7   object\n",
       "tempo_experiencia_dados      7   object\n",
       "formacao                     9   object\n",
       "cargo                       18   object\n",
       "estado_moradia              22   object\n",
       "linguagens_preferidas       36   object\n",
       "idade                       37  float64\n",
       "bancos_de_dados           1473   object"
      ]
     },
     "execution_count": 174,
     "metadata": {},
     "output_type": "execute_result"
    }
   ],
   "source": [
    "counts_data = {\n",
    "    \"count\": [df[column].nunique() for column in df.columns],\n",
    "    \"type\": [df[column].dtype for column in df.columns]\n",
    "}\n",
    "\n",
    "df_counts = pd.DataFrame(counts_data, index=df.columns)\n",
    "df_counts = df_counts.sort_values(by=\"count\", ascending=True)\n",
    "df_counts"
   ]
  },
  {
   "cell_type": "markdown",
   "metadata": {},
   "source": [
    "## **3.2.2 Agregando e Removendo Categorias**\n",
    "Aqui vamos agrupar diferentes categorias em categorias mais gerais ou iremos remover categorias com pouca parição e seriam irrelevantes para a análise."
   ]
  },
  {
   "cell_type": "code",
   "execution_count": 176,
   "metadata": {},
   "outputs": [
    {
     "data": {
      "text/plain": [
       "bancos_de_dados\n",
       "Google BigQuery                                                                                    227\n",
       "SQL SERVER                                                                                         202\n",
       "MySQL                                                                                              116\n",
       "Databricks                                                                                          71\n",
       "PostgreSQL                                                                                          69\n",
       "                                                                                                  ... \n",
       "Não trabalho com banco diretamente                                                                   1\n",
       "S3, SQL SERVER, Hive, Presto, Google BigQuery                                                        1\n",
       "S3, Redis, PostgreSQL, SQL SERVER, Amazon Aurora ou RDS, Databricks, MySQL, Amazon Athena, Hive      1\n",
       "MySQL, SAP                                                                                           1\n",
       "Oracle, Firebird, SQL SERVER                                                                         1\n",
       "Name: count, Length: 1473, dtype: int64"
      ]
     },
     "execution_count": 176,
     "metadata": {},
     "output_type": "execute_result"
    }
   ],
   "source": [
    "df['bancos_de_dados'].value_counts()"
   ]
  },
  {
   "cell_type": "code",
   "execution_count": 177,
   "metadata": {},
   "outputs": [
    {
     "data": {
      "text/plain": [
       "bancos_de_dados\n",
       "sql server                470\n",
       "google bigquery           408\n",
       "mysql                     308\n",
       "postgresql                252\n",
       "databricks                225\n",
       "                         ... \n",
       "azure data lake             1\n",
       "não reconheço nenhum        1\n",
       "receita                     1\n",
       "denodo                      1\n",
       "não trabalho com dados      1\n",
       "Name: count, Length: 130, dtype: int64"
      ]
     },
     "execution_count": 177,
     "metadata": {},
     "output_type": "execute_result"
    }
   ],
   "source": [
    "# Colocando a coluna 'bancos_de_dados' como string\n",
    "df['bancos_de_dados'] = df['bancos_de_dados'].astype(str)\n",
    "\n",
    "# Colocando a coluna 'bancos_de_dados' minuscula\n",
    "df['bancos_de_dados'] = df['bancos_de_dados'].str.lower()\n",
    "\n",
    "# Pegando só a primeira opção de banco de dados\n",
    "df['bancos_de_dados'] = df['bancos_de_dados'].str.split(',').str[0]\n",
    "\n",
    "df['bancos_de_dados'].value_counts()\n",
    " "
   ]
  },
  {
   "cell_type": "code",
   "execution_count": 178,
   "metadata": {},
   "outputs": [
    {
     "name": "stdout",
     "output_type": "stream",
     "text": [
      "bancos_de_dados\n",
      "sql server                470\n",
      "google bigquery           408\n",
      "mysql                     308\n",
      "postgresql                252\n",
      "databricks                225\n",
      "oracle                    193\n",
      "s3                        149\n",
      "amazon athena              83\n",
      "amazon redshift            83\n",
      "microsoft access           74\n",
      "sap hana                   69\n",
      "mongodb                    69\n",
      "hive                       68\n",
      "snowflake                  56\n",
      "sqlite                     50\n",
      "nenhum                     37\n",
      "amazon aurora ou rds       33\n",
      "db2                        26\n",
      "elaticsearch               24\n",
      "presto                     22\n",
      "excel                      22\n",
      "dynamodb                   19\n",
      "mariadb                    18\n",
      "firebase                   18\n",
      "google firestore           12\n",
      "redis                      10\n",
      "splunk                     10\n",
      "não utilizo                 8\n",
      "hbase                       7\n",
      "cassandra                   7\n",
      "sybase                      6\n",
      "datomic                     6\n",
      "nenhuma                     5\n",
      "firebird                    5\n",
      "teradata                    5\n",
      "azure                       4\n",
      "neo4j                       4\n",
      "não uso                     4\n",
      "coachdb                     3\n",
      "google sheets               3\n",
      "não utilizo nenhum          3\n",
      "sas                         3\n",
      "não usamos                  2\n",
      "não sei                     2\n",
      "sap                         2\n",
      "interno                     2\n",
      "não atuo na área ainda      2\n",
      "nao utilizo                 2\n",
      "nenhum acima                2\n",
      "metabase                    2\n",
      "sharepoint                  2\n",
      "Name: count, dtype: int64\n"
     ]
    }
   ],
   "source": [
    "vc = df['bancos_de_dados'].value_counts()\n",
    "vc_filtrado = vc[vc > 1]\n",
    "print(vc_filtrado)"
   ]
  },
  {
   "cell_type": "code",
   "execution_count": 185,
   "metadata": {},
   "outputs": [],
   "source": [
    "substituir_por_nenhum = [\n",
    "    \"não atuo na área ainda\", \"nao utilizo\", \"nenhum acima\", \n",
    "    \"não utilizo nenhum\", \"não usamos\", \"não sei\", \n",
    "    \"não uso\", \"nenhuma\", \"não utilizo\"\n",
    "]\n",
    "\n",
    "df['bancos_de_dados'] = df['bancos_de_dados'].replace(substituir_por_nenhum, 'nenhum')\n",
    "\n",
    "# Removendo do dataset onde o value_counts é igual a 1\n",
    "# Contar a frequência de cada valor\n",
    "contagem = df['bancos_de_dados'].value_counts()\n",
    "\n",
    "# Filtrar o DataFrame removendo os valores que aparecem apenas uma vez\n",
    "df = df[df['bancos_de_dados'].isin(contagem[contagem > 1].index)]\n"
   ]
  },
  {
   "cell_type": "code",
   "execution_count": 186,
   "metadata": {},
   "outputs": [
    {
     "data": {
      "text/plain": [
       "bancos_de_dados\n",
       "sql server              470\n",
       "google bigquery         408\n",
       "mysql                   308\n",
       "postgresql              252\n",
       "databricks              225\n",
       "oracle                  193\n",
       "s3                      149\n",
       "amazon athena            83\n",
       "amazon redshift          83\n",
       "microsoft access         74\n",
       "mongodb                  69\n",
       "sap hana                 69\n",
       "hive                     68\n",
       "snowflake                56\n",
       "sqlite                   50\n",
       "nenhum                   37\n",
       "amazon aurora ou rds     33\n",
       "db2                      26\n",
       "elaticsearch             24\n",
       "excel                    22\n",
       "presto                   22\n",
       "dynamodb                 19\n",
       "mariadb                  18\n",
       "firebase                 18\n",
       "google firestore         12\n",
       "redis                    10\n",
       "splunk                   10\n",
       "hbase                     7\n",
       "cassandra                 7\n",
       "sybase                    6\n",
       "datomic                   6\n",
       "teradata                  5\n",
       "firebird                  5\n",
       "neo4j                     4\n",
       "azure                     4\n",
       "coachdb                   3\n",
       "google sheets             3\n",
       "sas                       3\n",
       "interno                   2\n",
       "metabase                  2\n",
       "sharepoint                2\n",
       "sap                       2\n",
       "Name: count, dtype: int64"
      ]
     },
     "execution_count": 186,
     "metadata": {},
     "output_type": "execute_result"
    }
   ],
   "source": [
    "df.bancos_de_dados.value_counts()"
   ]
  },
  {
   "cell_type": "code",
   "execution_count": 182,
   "metadata": {},
   "outputs": [
    {
     "data": {
      "text/plain": [
       "linguagens_preferidas\n",
       "Python                      2498\n",
       "R                            232\n",
       "Scala                         35\n",
       "SQL                           26\n",
       "C/C++/C#                      23\n",
       "Julia                         17\n",
       "Sql                            8\n",
       "Rust                           3\n",
       "Elixir                         3\n",
       "Go                             2\n",
       "PySpark                        2\n",
       "sql                            2\n",
       "Java                           1\n",
       "spark                          1\n",
       "SQL Postegres                  1\n",
       "Não uso                        1\n",
       "Nenhum                         1\n",
       "Excel                          1\n",
       "Nao atuo com programação       1\n",
       "java                           1\n",
       "javascript                     1\n",
       "Nenhuma                        1\n",
       "Spark                          1\n",
       "Dax                            1\n",
       "VBA                            1\n",
       "Clojure                        1\n",
       "xlsx                           1\n",
       "Aql                            1\n",
       "M                              1\n",
       "Sas                            1\n",
       "Name: count, dtype: int64"
      ]
     },
     "execution_count": 182,
     "metadata": {},
     "output_type": "execute_result"
    }
   ],
   "source": [
    "# Vendo as 'linguagens_preferidas'\n",
    "df.linguagens_preferidas.value_counts()"
   ]
  },
  {
   "cell_type": "code",
   "execution_count": null,
   "metadata": {},
   "outputs": [],
   "source": [
    "substituir_por_nenhum = [\n",
    "    \"Não uso\", \"nao utilizo\", \"Nao atuo com programaçã\", \n",
    "    \"não utilizo nenhum\", \"não usamos\", \"não sei\", \n",
    "    \"não uso\", \"nenhuma\", \"não utilizo\"\n",
    "]\n",
    "\n",
    "df['bancos_de_dados'] = df['bancos_de_dados'].replace(substituir_por_nenhum, 'nenhum')\n"
   ]
  },
  {
   "cell_type": "code",
   "execution_count": 184,
   "metadata": {},
   "outputs": [
    {
     "data": {
      "text/plain": [
       "linguagens_preferidas\n",
       "python                      2498\n",
       "r                            232\n",
       "sql                           36\n",
       "scala                         35\n",
       "c/c++/c#                      23\n",
       "julia                         17\n",
       "elixir                         3\n",
       "rust                           3\n",
       "java                           2\n",
       "spark                          2\n",
       "pyspark                        2\n",
       "go                             2\n",
       "aql                            1\n",
       "sql postegres                  1\n",
       "não uso                        1\n",
       "nenhum                         1\n",
       "excel                          1\n",
       "nao atuo com programação       1\n",
       "javascript                     1\n",
       "nenhuma                        1\n",
       "dax                            1\n",
       "vba                            1\n",
       "clojure                        1\n",
       "xlsx                           1\n",
       "m                              1\n",
       "sas                            1\n",
       "Name: count, dtype: int64"
      ]
     },
     "execution_count": 184,
     "metadata": {},
     "output_type": "execute_result"
    }
   ],
   "source": [
    "# Colocando a coluna 'linguagens_preferidas' como string\n",
    "df['linguagens_preferidas'] = df['linguagens_preferidas'].astype(str)\n",
    "\n",
    "# Colocando a coluna 'linguagens_preferidas' minuscula\n",
    "df['linguagens_preferidas'] = df['linguagens_preferidas'].str.lower()\n",
    "\n",
    "# Pegando só a primeira opção de banco de dados\n",
    "df['linguagens_preferidas'] = df['linguagens_preferidas'].str.split(',').str[0]\n",
    "\n",
    "df['linguagens_preferidas'].value_counts()"
   ]
  }
 ],
 "metadata": {
  "kernelspec": {
   "display_name": "base",
   "language": "python",
   "name": "python3"
  },
  "language_info": {
   "codemirror_mode": {
    "name": "ipython",
    "version": 3
   },
   "file_extension": ".py",
   "mimetype": "text/x-python",
   "name": "python",
   "nbconvert_exporter": "python",
   "pygments_lexer": "ipython3",
   "version": "3.12.4"
  }
 },
 "nbformat": 4,
 "nbformat_minor": 2
}
